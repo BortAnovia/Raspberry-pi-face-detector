{
 "cells": [
  {
   "cell_type": "code",
   "execution_count": 5,
   "metadata": {},
   "outputs": [],
   "source": [
    "import cv2\n",
    "import ctypes   \n",
    "import numpy as np\n",
    "#import matplotlib.pyplot as plt\n",
    "%matplotlib inline\n",
    "DELETE COMMENT ON THESE TWO LINES\n",
    "from matplotlib import pyplot as plt\n",
    "from matplotlib import interactive\n",
    "\n",
    "\n",
    "\n",
    "# NOTE: IF *LIBRARY NAME* NOT FOUND, TRY REINSTALLING IT BY GOING TO CMD AND TYPE \"Pip install *LIBRARY NAME* \"\n",
    "#---------------------------------------------------------------------------------------------------------------------------#"
   ]
  },
  {
   "cell_type": "code",
   "execution_count": 6,
   "metadata": {},
   "outputs": [],
   "source": [
    "face_cascade = cv2.CascadeClassifier('DATA/haarcascade/haarcascade_frontalface_default.xml') \n",
    "\n",
    "# Import file from a location\n",
    "#car_cascade = cv2.CascadeClassifier('DATA/haarcascades/vehicle_detection_haarcascades-master/cars.xml')\n",
    "\n",
    "# NOTE, FILES DOES NOT HAVE THE SAME LOCATION IN EVERY COMPUTERS. MAKE SURE TO CHANGE THE FILE LOCATION EVERYTIME YOU\n",
    "# SWITCH COMPUTERS\n",
    "#---------------------------------------------------------------------------------------------------------------------------#"
   ]
  },
  {
   "cell_type": "code",
   "execution_count": 7,
   "metadata": {},
   "outputs": [],
   "source": [
    "def detector(img): \n",
    "#CRATING A NEW FUNCTION\n",
    "    \n",
    "    face_img = img.copy()     \n",
    "    #TAKE PART OF THE IMAGE \n",
    "    face_detected = False\n",
    "    face_rect = face_cascade.detectMultiScale(face_img,scaleFactor=1.2,minNeighbors=5,minSize= (20,20)) \n",
    "    # \"Face_cascade....\" IS WHAT USED FOR FACIAL DETECTORS\n",
    "    \n",
    "    for(x,y,w,h) in face_rect:\n",
    "        cv2.rectangle(face_img,(x,y),(x+w,y+h),(0,0,255),2) \n",
    "        \n",
    "        #CREATES A RECTANGLE TO SORT DETECTED FACE\n",
    "        if w>0 :   \n",
    "        # THE CONDITIONS ARE BASED ON THE WIDTH OF OUR RECTANGLE\n",
    "            face_detected = True\n",
    "    if face_detected == True : \n",
    "        \n",
    "        # COUNT HOW MANY OBJECTS DETECTED BY READING THE RECTANGLE SHAPES\n",
    "        cv2.putText(face_img,\"Detected: \"+ str(face_rect.shape[0]),(100,50),cv2.FONT_HERSHEY_DUPLEX, 0.5,(255,0,0),2)\n",
    "    elif face_detected == False: \n",
    "        \n",
    "        # SHOW IF NOTHING DETECTED\n",
    "        cv2.putText(face_img,\"Not Detected\",(100,50),cv2.FONT_HERSHEY_DUPLEX, 0.5,(0,0,255),2)\n",
    "    return face_img\n",
    "#---------------------------------------------------------------------------------------------------------------------------#"
   ]
  },
  {
   "cell_type": "code",
   "execution_count": 8,
   "metadata": {},
   "outputs": [],
   "source": [
    "cap = cv2.VideoCapture(0) \n",
    "# OPENING THE CAMERA\n",
    "while True:\n",
    "    ret,frame = cap.read() \n",
    "    # TAKING THE \"FRAME\" OR PICTURES FROM CAMERA\n",
    "    \n",
    "    frame = detector(frame) \n",
    "    \n",
    "    # APPLY THE FUNCTION THAT WE CREATED ON FRAME\n",
    "    cv2.imshow('Face Detection',frame) \n",
    "    \n",
    "    # SHOWING THE FRAME ON A SMALL WINDOW\n",
    "    k = cv2.waitKey(1) \n",
    "    \n",
    "    #THE SHUTDOWN KEY IS '27' = ESC\n",
    "    if k == 27:\n",
    "        break\n",
    "cap.release()\n",
    "cv2.destroyAllWindows()\n",
    "#---------------------------------------------------------------------------------------------------------------------------#"
   ]
  }
 ],
 "metadata": {
  "kernelspec": {
   "display_name": "Python 3",
   "language": "python",
   "name": "python3"
  },
  "language_info": {
   "codemirror_mode": {
    "name": "ipython",
    "version": 3
   },
   "file_extension": ".py",
   "mimetype": "text/x-python",
   "name": "python",
   "nbconvert_exporter": "python",
   "pygments_lexer": "ipython3",
   "version": "3.6.6"
  }
 },
 "nbformat": 4,
 "nbformat_minor": 2
}
